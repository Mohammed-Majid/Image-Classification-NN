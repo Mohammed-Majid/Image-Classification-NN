{
 "cells": [
  {
   "cell_type": "code",
   "execution_count": 1,
   "metadata": {},
   "outputs": [],
   "source": [
    "import numpy as np\n",
    "import pandas as pd\n",
    "import matplotlib.pyplot as plt"
   ]
  },
  {
   "cell_type": "markdown",
   "metadata": {},
   "source": [
    "### Loading the Dataset"
   ]
  },
  {
   "cell_type": "code",
   "execution_count": 29,
   "metadata": {},
   "outputs": [
    {
     "name": "stdout",
     "output_type": "stream",
     "text": [
      "Training images shape: (60000, 28, 28)\n",
      "Training labels shape: (60000,)\n",
      "Test images shape: (10000, 28, 28)\n",
      "Test labels shape: (10000,)\n"
     ]
    }
   ],
   "source": [
    "def load_images(path):\n",
    "    with open(path, 'rb') as f:\n",
    "        # Read the first 16 bytes which contain metadata\n",
    "        magic, num, rows, cols = np.frombuffer(f.read(16), dtype=np.dtype('>i4'), count=4)\n",
    "        # Read the remaining bytes which contain the image data\n",
    "        images = np.frombuffer(f.read(), dtype=np.dtype('>u1')).reshape(num, rows, cols)\n",
    "    return images\n",
    "\n",
    "def load_labels(path):\n",
    "    with open(path, 'rb') as f:\n",
    "        # Read the first 8 bytes which contain metadata\n",
    "        magic, num = np.frombuffer(f.read(8), dtype=np.dtype('>i4'), count=2)\n",
    "        # Read the remaining bytes which contain the label data\n",
    "        labels = np.frombuffer(f.read(), dtype=np.dtype('>u1'))\n",
    "    return labels\n",
    "\n",
    "# Paths to the downloaded files\n",
    "train_images_path = 'train-images.idx3-ubyte'\n",
    "train_labels_path = 'train-labels.idx1-ubyte'\n",
    "test_images_path = 't10k-images.idx3-ubyte'\n",
    "test_labels_path = 't10k-labels.idx1-ubyte'\n",
    "\n",
    "# Load the datasets\n",
    "train_images = load_images(train_images_path)\n",
    "train_labels = load_labels(train_labels_path)\n",
    "test_images = load_images(test_images_path)\n",
    "test_labels = load_labels(test_labels_path)\n",
    "\n",
    "# Checking if the data is loaded correctly\n",
    "print(f'Training images shape: {train_images.shape}')\n",
    "print(f'Training labels shape: {train_labels.shape}')\n",
    "print(f'Test images shape: {test_images.shape}')\n",
    "print(f'Test labels shape: {test_labels.shape}')\n"
   ]
  },
  {
   "cell_type": "code",
   "execution_count": 35,
   "metadata": {},
   "outputs": [
    {
     "data": {
      "image/png": "[encoded data removed]",
      "text/plain": [
       "<Figure size 640x480 with 1 Axes>"
      ]
     },
     "metadata": {},
     "output_type": "display_data"
    }
   ],
   "source": [
    "def convert_to_dataframe(images, labels):\n",
    "    # Flatten the images array from (num_samples, 28, 28) to (num_samples, 784)\n",
    "    flattened_images = images.reshape(images.shape[0], -1)\n",
    "    # Create a DataFrame with the flattened images\n",
    "    df = pd.DataFrame(flattened_images)\n",
    "    # Add the labels as a new column\n",
    "    df['label'] = labels\n",
    "    return df\n",
    "\n",
    "# Convert training and test sets to DataFrames\n",
    "train_df = convert_to_dataframe(train_images, train_labels)\n",
    "test_df = convert_to_dataframe(test_images, test_labels)\n",
    "\n",
    "def plot_image(image, label):\n",
    "    plt.imshow(image.reshape(28, 28), cmap='gray')\n",
    "    plt.title(f'Label: {label}')\n",
    "    plt.show()\n",
    "\n",
    "# Plot the first image in the training set\n",
    "plot_image(train_images[0], train_labels[0])\n"
   ]
  },
  {
   "cell_type": "code",
   "execution_count": 33,
   "metadata": {},
   "outputs": [
    {
     "name": "stdout",
     "output_type": "stream",
     "text": [
      "   0  1  2  3  4  5  6  7  8  9  ...  775  776  777  778  779  780  781  782  \\\n",
      "0  0  0  0  0  0  0  0  0  0  0  ...    0    0    0    0    0    0    0    0   \n",
      "1  0  0  0  0  0  0  0  0  0  0  ...    0    0    0    0    0    0    0    0   \n",
      "2  0  0  0  0  0  0  0  0  0  0  ...    0    0    0    0    0    0    0    0   \n",
      "3  0  0  0  0  0  0  0  0  0  0  ...    0    0    0    0    0    0    0    0   \n",
      "4  0  0  0  0  0  0  0  0  0  0  ...    0    0    0    0    0    0    0    0   \n",
      "\n",
      "   783  label  \n",
      "0    0      5  \n",
      "1    0      0  \n",
      "2    0      4  \n",
      "3    0      1  \n",
      "4    0      9  \n",
      "\n",
      "[5 rows x 785 columns]\n",
      "             0        1        2        3        4        5        6        7  \\\n",
      "count  60000.0  60000.0  60000.0  60000.0  60000.0  60000.0  60000.0  60000.0   \n",
      "mean       0.0      0.0      0.0      0.0      0.0      0.0      0.0      0.0   \n",
      "std        0.0      0.0      0.0      0.0      0.0      0.0      0.0      0.0   \n",
      "min        0.0      0.0      0.0      0.0      0.0      0.0      0.0      0.0   \n",
      "25%        0.0      0.0      0.0      0.0      0.0      0.0      0.0      0.0   \n",
      "50%        0.0      0.0      0.0      0.0      0.0      0.0      0.0      0.0   \n",
      "75%        0.0      0.0      0.0      0.0      0.0      0.0      0.0      0.0   \n",
      "max        0.0      0.0      0.0      0.0      0.0      0.0      0.0      0.0   \n",
      "\n",
      "             8        9  ...           775           776           777  \\\n",
      "count  60000.0  60000.0  ...  60000.000000  60000.000000  60000.000000   \n",
      "mean       0.0      0.0  ...      0.088867      0.045633      0.019283   \n",
      "std        0.0      0.0  ...      3.956189      2.839845      1.686770   \n",
      "min        0.0      0.0  ...      0.000000      0.000000      0.000000   \n",
      "25%        0.0      0.0  ...      0.000000      0.000000      0.000000   \n",
      "50%        0.0      0.0  ...      0.000000      0.000000      0.000000   \n",
      "75%        0.0      0.0  ...      0.000000      0.000000      0.000000   \n",
      "max        0.0      0.0  ...    254.000000    253.000000    253.000000   \n",
      "\n",
      "                778         779      780      781      782      783  \\\n",
      "count  60000.000000  60000.0000  60000.0  60000.0  60000.0  60000.0   \n",
      "mean       0.015117      0.0020      0.0      0.0      0.0      0.0   \n",
      "std        1.678283      0.3466      0.0      0.0      0.0      0.0   \n",
      "min        0.000000      0.0000      0.0      0.0      0.0      0.0   \n",
      "25%        0.000000      0.0000      0.0      0.0      0.0      0.0   \n",
      "50%        0.000000      0.0000      0.0      0.0      0.0      0.0   \n",
      "75%        0.000000      0.0000      0.0      0.0      0.0      0.0   \n",
      "max      254.000000     62.0000      0.0      0.0      0.0      0.0   \n",
      "\n",
      "              label  \n",
      "count  60000.000000  \n",
      "mean       4.453933  \n",
      "std        2.889270  \n",
      "min        0.000000  \n",
      "25%        2.000000  \n",
      "50%        4.000000  \n",
      "75%        7.000000  \n",
      "max        9.000000  \n",
      "\n",
      "[8 rows x 785 columns]\n"
     ]
    }
   ],
   "source": [
    "# Display the first few rows of the training DataFrame\n",
    "print(train_df.head())\n",
    "\n",
    "# Describe the DataFrame to see basic statistics\n",
    "print(train_df.describe())"
   ]
  }
 ],
 "metadata": {
  "kernelspec": {
   "display_name": "MLenv1",
   "language": "python",
   "name": "python3"
  },
  "language_info": {
   "codemirror_mode": {
    "name": "ipython",
    "version": 3
   },
   "file_extension": ".py",
   "mimetype": "text/x-python",
   "name": "python",
   "nbconvert_exporter": "python",
   "pygments_lexer": "ipython3",
   "version": "3.11.9"
  }
 },
 "nbformat": 4,
 "nbformat_minor": 2
}
