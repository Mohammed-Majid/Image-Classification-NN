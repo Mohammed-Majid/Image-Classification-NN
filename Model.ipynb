{
 "cells": [
  {
   "cell_type": "code",
   "execution_count": 28,
   "metadata": {},
   "outputs": [],
   "source": [
    "import numpy as np\n",
    "import pandas as pd\n",
    "import matplotlib.pyplot as plt\n",
    "import pickle"
   ]
  },
  {
   "cell_type": "markdown",
   "metadata": {},
   "source": [
    "### Loading the Dataset"
   ]
  },
  {
   "cell_type": "code",
   "execution_count": 13,
   "metadata": {},
   "outputs": [
    {
     "name": "stdout",
     "output_type": "stream",
     "text": [
      "Training images shape: (60000, 28, 28)\n",
      "Training labels shape: (60000,)\n",
      "Test images shape: (10000, 28, 28)\n",
      "Test labels shape: (10000,)\n"
     ]
    }
   ],
   "source": [
    "def load_images(path):\n",
    "    with open(path, 'rb') as f:\n",
    "        # Read the first 16 bytes which contain metadata\n",
    "        magic, num, rows, cols = np.frombuffer(f.read(16), dtype=np.dtype('>i4'), count=4)\n",
    "        # Read the remaining bytes which contain the image data\n",
    "        images = np.frombuffer(f.read(), dtype=np.dtype('>u1')).reshape(num, rows, cols)\n",
    "    return images\n",
    "\n",
    "def load_labels(path):\n",
    "    with open(path, 'rb') as f:\n",
    "        # Read the first 8 bytes which contain metadata\n",
    "        magic, num = np.frombuffer(f.read(8), dtype=np.dtype('>i4'), count=2)\n",
    "        # Read the remaining bytes which contain the label data\n",
    "        labels = np.frombuffer(f.read(), dtype=np.dtype('>u1'))\n",
    "    return labels\n",
    "\n",
    "# Paths to the downloaded files\n",
    "train_images_path = 'train-images.idx3-ubyte'\n",
    "train_labels_path = 'train-labels.idx1-ubyte'\n",
    "test_images_path = 't10k-images.idx3-ubyte'\n",
    "test_labels_path = 't10k-labels.idx1-ubyte'\n",
    "\n",
    "# Load the datasets\n",
    "train_images = load_images(train_images_path)\n",
    "train_labels = load_labels(train_labels_path)\n",
    "test_images = load_images(test_images_path)\n",
    "test_labels = load_labels(test_labels_path)\n",
    "\n",
    "# Checking if the data is loaded correctly\n",
    "print(f'Training images shape: {train_images.shape}')\n",
    "print(f'Training labels shape: {train_labels.shape}')\n",
    "print(f'Test images shape: {test_images.shape}')\n",
    "print(f'Test labels shape: {test_labels.shape}')\n"
   ]
  },
  {
   "cell_type": "code",
   "execution_count": 14,
   "metadata": {},
   "outputs": [
    {
     "data": {
      "image/png": "[encoded data removed]",
      "text/plain": [
       "<Figure size 640x480 with 1 Axes>"
      ]
     },
     "metadata": {},
     "output_type": "display_data"
    }
   ],
   "source": [
    "def convert_to_dataframe(images, labels):\n",
    "    # Flatten the images array from (num_samples, 28, 28) to (num_samples, 784)\n",
    "    flattened_images = images.reshape(images.shape[0], -1)\n",
    "    # Create a DataFrame with the flattened images\n",
    "    df = pd.DataFrame(flattened_images)\n",
    "    # Add the labels as a new column\n",
    "    df['label'] = labels\n",
    "    return df\n",
    "\n",
    "# Convert training and test sets to DataFrames\n",
    "train_df = convert_to_dataframe(train_images, train_labels)\n",
    "test_df = convert_to_dataframe(test_images, test_labels)\n",
    "\n",
    "def plot_image(image, label):\n",
    "    plt.imshow(image.reshape(28, 28), cmap='gray')\n",
    "    plt.title(f'Label: {label}')\n",
    "    plt.show()\n",
    "\n",
    "# Plot the first image in the training set\n",
    "plot_image(train_images[45], train_labels[45])\n"
   ]
  },
  {
   "cell_type": "code",
   "execution_count": 15,
   "metadata": {},
   "outputs": [
    {
     "name": "stdout",
     "output_type": "stream",
     "text": [
      "   0  1  2  3  4  5  6  7  8  9  ...  775  776  777  778  779  780  781  782  \\\n",
      "0  0  0  0  0  0  0  0  0  0  0  ...    0    0    0    0    0    0    0    0   \n",
      "1  0  0  0  0  0  0  0  0  0  0  ...    0    0    0    0    0    0    0    0   \n",
      "2  0  0  0  0  0  0  0  0  0  0  ...    0    0    0    0    0    0    0    0   \n",
      "3  0  0  0  0  0  0  0  0  0  0  ...    0    0    0    0    0    0    0    0   \n",
      "4  0  0  0  0  0  0  0  0  0  0  ...    0    0    0    0    0    0    0    0   \n",
      "\n",
      "   783  label  \n",
      "0    0      5  \n",
      "1    0      0  \n",
      "2    0      4  \n",
      "3    0      1  \n",
      "4    0      9  \n",
      "\n",
      "[5 rows x 785 columns]\n"
     ]
    }
   ],
   "source": [
    "# Display the first few rows of the training DataFrame\n",
    "print(train_df.head())"
   ]
  },
  {
   "cell_type": "markdown",
   "metadata": {},
   "source": [
    "### Preprocessing the Dataset"
   ]
  },
  {
   "cell_type": "code",
   "execution_count": 16,
   "metadata": {},
   "outputs": [],
   "source": [
    "#Transposed and turned the dataset into a 2D one\n",
    "train_images = train_images.reshape(train_images.shape[0], -1).T / 255.0\n",
    "test_images = test_images.reshape(test_images.shape[0], -1).T / 255.0\n",
    "train_labels = train_labels.T\n",
    "test_labels = test_labels.T"
   ]
  },
  {
   "cell_type": "markdown",
   "metadata": {},
   "source": [
    "### Initializing Parameters"
   ]
  },
  {
   "cell_type": "code",
   "execution_count": 17,
   "metadata": {},
   "outputs": [],
   "source": [
    "def init_params():\n",
    "    W1 = np.random.rand(10, 784) - 0.5\n",
    "    b1 = np.random.rand(10, 1) - 0.5\n",
    "    W2 = np.random.rand(10, 10) - 0.5\n",
    "    b2 = np.random.rand(10, 1) - 0.5\n",
    "    return W1, b1, W2, b2"
   ]
  },
  {
   "cell_type": "markdown",
   "metadata": {},
   "source": [
    "### Activation Functions"
   ]
  },
  {
   "cell_type": "code",
   "execution_count": 18,
   "metadata": {},
   "outputs": [],
   "source": [
    "def ReLU(Z):\n",
    "    return np.maximum(Z, 0)\n",
    "\n",
    "def softmax(Z):\n",
    "    A = np.exp(Z) / np.sum(np.exp(Z), axis=0)\n",
    "    return A"
   ]
  },
  {
   "cell_type": "markdown",
   "metadata": {},
   "source": [
    "### Forward Propagation"
   ]
  },
  {
   "cell_type": "code",
   "execution_count": 19,
   "metadata": {},
   "outputs": [],
   "source": [
    "def forward_prop(W1, b1, W2, b2, X):\n",
    "    Z1 = W1.dot(X) + b1\n",
    "    A1 = ReLU(Z1)\n",
    "    Z2 = W2.dot(A1) + b2\n",
    "    A2 = softmax(Z2)\n",
    "    return Z1, A1, Z2, A2"
   ]
  },
  {
   "cell_type": "markdown",
   "metadata": {},
   "source": [
    "### Derivative of ReLU"
   ]
  },
  {
   "cell_type": "code",
   "execution_count": 20,
   "metadata": {},
   "outputs": [],
   "source": [
    "def ReLU_deriv(Z):\n",
    "    return Z > 0"
   ]
  },
  {
   "cell_type": "markdown",
   "metadata": {},
   "source": [
    "### One-Hot Encoding (Labels)"
   ]
  },
  {
   "cell_type": "code",
   "execution_count": 21,
   "metadata": {},
   "outputs": [],
   "source": [
    "def one_hot(Y):\n",
    "    one_hot_Y = np.zeros((Y.size, Y.max() + 1))\n",
    "    one_hot_Y[np.arange(Y.size), Y] = 1\n",
    "    one_hot_Y = one_hot_Y.T\n",
    "    return one_hot_Y"
   ]
  },
  {
   "cell_type": "markdown",
   "metadata": {},
   "source": [
    "### Bakwards Propagation"
   ]
  },
  {
   "cell_type": "code",
   "execution_count": 22,
   "metadata": {},
   "outputs": [],
   "source": [
    "def backward_prop(Z1, A1, Z2, A2, W1, W2, X, Y, m):\n",
    "    one_hot_Y = one_hot(Y)\n",
    "    dZ2 = A2 - one_hot_Y\n",
    "    dW2 = 1 / m * dZ2.dot(A1.T)\n",
    "    db2 = 1 / m * np.sum(dZ2, axis=1, keepdims=True)\n",
    "    dZ1 = W2.T.dot(dZ2) * ReLU_deriv(Z1)\n",
    "    dW1 = 1 / m * dZ1.dot(X.T)\n",
    "    db1 = 1 / m * np.sum(dZ1, axis=1, keepdims=True)\n",
    "    return dW1, db1, dW2, db2"
   ]
  },
  {
   "cell_type": "markdown",
   "metadata": {},
   "source": [
    "### Updating Parameters (Gradient Descent)"
   ]
  },
  {
   "cell_type": "code",
   "execution_count": 23,
   "metadata": {},
   "outputs": [],
   "source": [
    "def update_params(W1, b1, W2, b2, dW1, db1, dW2, db2, alpha):\n",
    "    W1 -= alpha * dW1\n",
    "    b1 -= alpha * db1    \n",
    "    W2 -= alpha * dW2  \n",
    "    b2 -= alpha * db2    \n",
    "    return W1, b1, W2, b2"
   ]
  },
  {
   "cell_type": "markdown",
   "metadata": {},
   "source": [
    "### Making Predictions"
   ]
  },
  {
   "cell_type": "code",
   "execution_count": 24,
   "metadata": {},
   "outputs": [],
   "source": [
    "def get_predictions(A2):\n",
    "    return np.argmax(A2, 0)"
   ]
  },
  {
   "cell_type": "markdown",
   "metadata": {},
   "source": [
    "### Calculating Accuracy"
   ]
  },
  {
   "cell_type": "code",
   "execution_count": 25,
   "metadata": {},
   "outputs": [],
   "source": [
    "def get_accuracy(predictions, Y):\n",
    "    return np.sum(predictions == Y) / Y.size"
   ]
  },
  {
   "cell_type": "markdown",
   "metadata": {},
   "source": [
    "### Training the Network"
   ]
  },
  {
   "cell_type": "code",
   "execution_count": 26,
   "metadata": {},
   "outputs": [
    {
     "name": "stdout",
     "output_type": "stream",
     "text": [
      "Iteration: 0, Accuracy: 0.08076666666666667\n",
      "Iteration: 10, Accuracy: 0.106\n",
      "Iteration: 20, Accuracy: 0.16788333333333333\n",
      "Iteration: 30, Accuracy: 0.2504\n",
      "Iteration: 40, Accuracy: 0.3338833333333333\n",
      "Iteration: 50, Accuracy: 0.3984\n",
      "Iteration: 60, Accuracy: 0.4474\n",
      "Iteration: 70, Accuracy: 0.4868\n",
      "Iteration: 80, Accuracy: 0.5200833333333333\n",
      "Iteration: 90, Accuracy: 0.5521833333333334\n",
      "Iteration: 100, Accuracy: 0.5803666666666667\n",
      "Iteration: 110, Accuracy: 0.6032666666666666\n",
      "Iteration: 120, Accuracy: 0.6237333333333334\n",
      "Iteration: 130, Accuracy: 0.6419833333333334\n",
      "Iteration: 140, Accuracy: 0.65815\n",
      "Iteration: 150, Accuracy: 0.6715833333333333\n",
      "Iteration: 160, Accuracy: 0.6844166666666667\n",
      "Iteration: 170, Accuracy: 0.6957666666666666\n",
      "Iteration: 180, Accuracy: 0.7052833333333334\n",
      "Iteration: 190, Accuracy: 0.7148\n",
      "Iteration: 200, Accuracy: 0.7227\n",
      "Iteration: 210, Accuracy: 0.7302\n",
      "Iteration: 220, Accuracy: 0.7371166666666666\n",
      "Iteration: 230, Accuracy: 0.74395\n",
      "Iteration: 240, Accuracy: 0.7503\n",
      "Iteration: 250, Accuracy: 0.75655\n",
      "Iteration: 260, Accuracy: 0.7616833333333334\n",
      "Iteration: 270, Accuracy: 0.7671\n",
      "Iteration: 280, Accuracy: 0.7724166666666666\n",
      "Iteration: 290, Accuracy: 0.7766666666666666\n",
      "Iteration: 300, Accuracy: 0.7812\n",
      "Iteration: 310, Accuracy: 0.7860166666666667\n",
      "Iteration: 320, Accuracy: 0.7905\n",
      "Iteration: 330, Accuracy: 0.7942333333333333\n",
      "Iteration: 340, Accuracy: 0.7974333333333333\n",
      "Iteration: 350, Accuracy: 0.8005666666666666\n",
      "Iteration: 360, Accuracy: 0.80365\n",
      "Iteration: 370, Accuracy: 0.8061166666666667\n",
      "Iteration: 380, Accuracy: 0.8088666666666666\n",
      "Iteration: 390, Accuracy: 0.8114833333333333\n",
      "Iteration: 400, Accuracy: 0.8141666666666667\n",
      "Iteration: 410, Accuracy: 0.8164166666666667\n",
      "Iteration: 420, Accuracy: 0.81875\n",
      "Iteration: 430, Accuracy: 0.8205333333333333\n",
      "Iteration: 440, Accuracy: 0.8223333333333334\n",
      "Iteration: 450, Accuracy: 0.8240833333333333\n",
      "Iteration: 460, Accuracy: 0.8256666666666667\n",
      "Iteration: 470, Accuracy: 0.8271833333333334\n",
      "Iteration: 480, Accuracy: 0.8290166666666666\n",
      "Iteration: 490, Accuracy: 0.8306333333333333\n"
     ]
    }
   ],
   "source": [
    "def gradient_descent(X, Y, alpha, iterations):\n",
    "    W1, b1, W2, b2 = init_params()\n",
    "    m = X.shape[1]\n",
    "    for i in range(iterations):\n",
    "        Z1, A1, Z2, A2 = forward_prop(W1, b1, W2, b2, X)\n",
    "        dW1, db1, dW2, db2 = backward_prop(Z1, A1, Z2, A2, W1, W2, X, Y, m)\n",
    "        W1, b1, W2, b2 = update_params(W1, b1, W2, b2, dW1, db1, dW2, db2, alpha)\n",
    "        if i % 10 == 0:\n",
    "            predictions = get_predictions(A2)\n",
    "            accuracy = get_accuracy(predictions, Y)\n",
    "            print(f\"Iteration: {i}, Accuracy: {accuracy}\")\n",
    "    return W1, b1, W2, b2\n",
    "\n",
    "W1, b1, W2, b2 = gradient_descent(train_images, train_labels, 0.10, 500)"
   ]
  },
  {
   "cell_type": "markdown",
   "metadata": {},
   "source": [
    "### Testing the Model"
   ]
  },
  {
   "cell_type": "code",
   "execution_count": 27,
   "metadata": {},
   "outputs": [
    {
     "name": "stdout",
     "output_type": "stream",
     "text": [
      "Prediction:  [5]\n",
      "Label:  5\n"
     ]
    },
    {
     "data": {
      "image/png": "[encoded data removed]",
      "text/plain": [
       "<Figure size 640x480 with 1 Axes>"
      ]
     },
     "metadata": {},
     "output_type": "display_data"
    },
    {
     "name": "stdout",
     "output_type": "stream",
     "text": [
      "Prediction:  [0]\n",
      "Label:  0\n"
     ]
    },
    {
     "data": {
      "image/png": "[encoded data removed]",
      "text/plain": [
       "<Figure size 640x480 with 1 Axes>"
      ]
     },
     "metadata": {},
     "output_type": "display_data"
    },
    {
     "name": "stdout",
     "output_type": "stream",
     "text": [
      "Prediction:  [9]\n",
      "Label:  4\n"
     ]
    },
    {
     "data": {
      "image/png": "[encoded data removed]",
      "text/plain": [
       "<Figure size 640x480 with 1 Axes>"
      ]
     },
     "metadata": {},
     "output_type": "display_data"
    },
    {
     "name": "stdout",
     "output_type": "stream",
     "text": [
      "Prediction:  [1]\n",
      "Label:  1\n"
     ]
    },
    {
     "data": {
      "image/png": "[encoded data removed]",
      "text/plain": [
       "<Figure size 640x480 with 1 Axes>"
      ]
     },
     "metadata": {},
     "output_type": "display_data"
    },
    {
     "name": "stdout",
     "output_type": "stream",
     "text": [
      "Test Accuracy: 0.8406\n"
     ]
    }
   ],
   "source": [
    "def make_predictions(X, W1, b1, W2, b2):\n",
    "    _, _, _, A2 = forward_prop(W1, b1, W2, b2, X)\n",
    "    predictions = get_predictions(A2)\n",
    "    return predictions\n",
    "\n",
    "def test_prediction(index, W1, b1, W2, b2):\n",
    "    current_image = train_images[:, index, None]\n",
    "    prediction = make_predictions(train_images[:, index, None], W1, b1, W2, b2)\n",
    "    label = train_labels[index]\n",
    "    print(\"Prediction: \", prediction)\n",
    "    print(\"Label: \", label)\n",
    "    \n",
    "    current_image = current_image.reshape((28, 28)) * 255\n",
    "    plt.gray()\n",
    "    plt.imshow(current_image, interpolation='nearest')\n",
    "    plt.show()\n",
    "    \n",
    "# Test predictions on the first few images\n",
    "for i in range(4):\n",
    "    test_prediction(i, W1, b1, W2, b2)\n",
    "\n",
    "# Evaluate the accuracy on the test set\n",
    "test_predictions = make_predictions(test_images, W1, b1, W2, b2)\n",
    "test_accuracy = get_accuracy(test_predictions, test_labels)\n",
    "print(f\"Test Accuracy: {test_accuracy}\")"
   ]
  }
 ],
 "metadata": {
  "kernelspec": {
   "display_name": "MLenv1",
   "language": "python",
   "name": "python3"
  },
  "language_info": {
   "codemirror_mode": {
    "name": "ipython",
    "version": 3
   },
   "file_extension": ".py",
   "mimetype": "text/x-python",
   "name": "python",
   "nbconvert_exporter": "python",
   "pygments_lexer": "ipython3",
   "version": "3.12.4"
  }
 },
 "nbformat": 4,
 "nbformat_minor": 2
}
